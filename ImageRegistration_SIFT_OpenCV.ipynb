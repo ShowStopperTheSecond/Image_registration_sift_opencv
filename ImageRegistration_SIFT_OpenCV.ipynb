{
 "cells": [
  {
   "cell_type": "code",
   "execution_count": null,
   "metadata": {},
   "outputs": [],
   "source": [
    "import numpy as np\n",
    "import cv2\n",
    "from matplotlib import pyplot as plt\n"
   ]
  },
  {
   "cell_type": "code",
   "execution_count": null,
   "metadata": {},
   "outputs": [],
   "source": [
    "img1 = cv2.imread('w1.jpg',0)     \n",
    "img2 = cv2.imread('w2.jpg',0) "
   ]
  },
  {
   "cell_type": "code",
   "execution_count": null,
   "metadata": {},
   "outputs": [],
   "source": [
    "fig,ax=plt.subplots(1,2,figsize=(20,18))\n",
    "ax[0].imshow(img1)\n",
    "ax[1].imshow(img2)"
   ]
  },
  {
   "cell_type": "code",
   "execution_count": null,
   "metadata": {},
   "outputs": [],
   "source": [
    "\n",
    "# Initiate SIFT detector\n",
    "sift = cv2.SIFT_create()\n",
    "\n",
    "# find the keypoints and descriptors with SIFT\n",
    "kp1, des1 = sift.detectAndCompute(img1,None)\n",
    "kp2, des2 = sift.detectAndCompute(img2,None)\n",
    "\n",
    "# BFMatcher with default params\n",
    "bf = cv2.BFMatcher()\n",
    "matches = bf.knnMatch(des1,des2, k=2)\n",
    "\n",
    "# Apply ratio test\n",
    "good_matches = []\n",
    "for m,n in matches:\n",
    "    if m.distance < 0.9*n.distance:\n",
    "        good_matches.append([m])\n",
    "\n",
    "# cv2.drawMatchesKnn expects list of lists as matches.\n",
    "img3 = cv2.drawMatchesKnn(img1,kp1,img2,kp2,good_matches,outImg=None,flags=2)\n",
    "plt.figure(figsize=(20,18))\n",
    "plt.imshow(img3)"
   ]
  },
  {
   "cell_type": "code",
   "execution_count": null,
   "metadata": {},
   "outputs": [],
   "source": [
    "pt1=[kp1[m[0].queryIdx].pt for m in good_matches ]\n",
    "pt2=[kp2[m[0].trainIdx].pt for m in good_matches ]\n",
    "pt1=np.array(pt1)\n",
    "pt2=np.array(pt2)"
   ]
  },
  {
   "cell_type": "code",
   "execution_count": null,
   "metadata": {},
   "outputs": [],
   "source": [
    "h,mask=cv2.findHomography(srcPoints=pt1,dstPoints=pt2,method=cv2.FM_RANSAC, ransacReprojThreshold=10)\n",
    "# h,mask=cv2.findHomography(srcPoints=pt1,dstPoints=pt2,method=cv2.RANSAC, ransacReprojThreshold=5)\n",
    "print ('Number of detected keypoints after remving outliers: ')\n",
    "int(sum(mask==1))"
   ]
  },
  {
   "cell_type": "code",
   "execution_count": null,
   "metadata": {},
   "outputs": [],
   "source": [
    "def translatePoint(p, d):\n",
    "    x, y = p\n",
    "    dx, dy = d\n",
    "    return [x + dx, y + dy]\n"
   ]
  },
  {
   "cell_type": "code",
   "execution_count": null,
   "metadata": {},
   "outputs": [],
   "source": [
    "def homographyTransform(h,p):\n",
    "    res=h@p\n",
    "    res=res/res[-1]\n",
    "    return res[:2].astype('int')"
   ]
  },
  {
   "cell_type": "code",
   "execution_count": null,
   "metadata": {},
   "outputs": [],
   "source": [
    "\n",
    "\n",
    "def drawMatches(pt1, img1, pt2, img2, mask, h_mat):\n",
    "    h1, w1 = img1.shape[:2]\n",
    "    h2, w2 = img2.shape[:2]\n",
    "    img = np.zeros(shape=(max(h1, h2), w1 + w2), dtype='uint8')\n",
    "    img[:h1, :w1] = img1\n",
    "    img[:h2, w1:] = img2\n",
    "    img = cv2.cvtColor(img, cv2.COLOR_GRAY2RGB)\n",
    "    x = []\n",
    "    x.append([0, 0, 1])\n",
    "    x.append([w1, 0, 1])\n",
    "    x.append([w1, h1, 1])\n",
    "    x.append([0, h1, 1])\n",
    "\n",
    "    tx = [translatePoint(homographyTransform(h_mat, np.array(p)), (w1, 0)) for p in x]\n",
    "    tx = np.array([tx])\n",
    "    for i, m in enumerate(mask):\n",
    "        if m == 1:\n",
    "            dst = (int(w1 + pt2[i][0]), int(pt2[i][1]))\n",
    "            src = (int(pt1[i][0]), int(pt1[i][1]))\n",
    "            #             color=tuple(np.random.randint(0,255,3,dtype='int'))\n",
    "            color = np.random.randint(0, 255, size=(3), dtype=np.uint8)\n",
    "            color = (int(color[0]), int(color[1]), int(color[2]))\n",
    "            cv2.line(img, src, dst, color, thickness=1)\n",
    "    cv2.polylines(img, tx, isClosed=True, color=color, thickness=2)\n",
    "    plt.figure(figsize=(20, 18))\n",
    "    plt.imshow(img)\n",
    "    plt.show()\n",
    "    return img\n"
   ]
  },
  {
   "cell_type": "code",
   "execution_count": null,
   "metadata": {},
   "outputs": [],
   "source": [
    "h"
   ]
  },
  {
   "cell_type": "code",
   "execution_count": null,
   "metadata": {},
   "outputs": [],
   "source": [
    "imgg=drawMatches(pt1,img1,pt2,img2,mask,h)"
   ]
  },
  {
   "cell_type": "code",
   "execution_count": null,
   "metadata": {},
   "outputs": [],
   "source": [
    "def homographyAddTranslation(h,translation):\n",
    "    h_t=np.eye(3)\n",
    "    h_t[0,2]=translation[1]\n",
    "    h_t[1,2]=translation[0]\n",
    "    return h_t@h"
   ]
  },
  {
   "cell_type": "code",
   "execution_count": null,
   "metadata": {},
   "outputs": [],
   "source": [
    "def stichImages(img1,img2,h):\n",
    "    dst_h,dst_w=img2.shape[:2]\n",
    "    dst_shape=(dst_w*3,dst_h*3)\n",
    "    h=homographyAddTranslation(h,(dst_h,dst_w))\n",
    "    img=cv2.warpPerspective(img1,h,dst_shape)\n",
    "    fig,ax=plt.subplots(1,2,figsize=(20,18))\n",
    "    padded_img=np.pad(img2,[[dst_h,dst_h],[dst_w,dst_w]])\n",
    "    ax[0].imshow(img)\n",
    "    ax[1].imshow(padded_img)\n",
    "    plt.show()\n",
    "    img_registeded=padded_img.copy()\n",
    "    img_registeded[img!=0]=img[img!=0]\n",
    "    plt.figure(figsize=(20,18))\n",
    "    plt.imshow(img_registeded)\n",
    "    plt.show()\n",
    "    return img_registeded\n",
    "    "
   ]
  },
  {
   "cell_type": "code",
   "execution_count": null,
   "metadata": {},
   "outputs": [],
   "source": [
    "result=stichImages(img1,img2,h)"
   ]
  },
  {
   "cell_type": "code",
   "execution_count": null,
   "metadata": {},
   "outputs": [],
   "source": []
  },
  {
   "cell_type": "code",
   "execution_count": null,
   "metadata": {},
   "outputs": [],
   "source": []
  }
 ],
 "metadata": {
  "kernelspec": {
   "display_name": "Python 3",
   "language": "python",
   "name": "python3"
  },
  "language_info": {
   "codemirror_mode": {
    "name": "ipython",
    "version": 3
   },
   "file_extension": ".py",
   "mimetype": "text/x-python",
   "name": "python",
   "nbconvert_exporter": "python",
   "pygments_lexer": "ipython3",
   "version": "3.8.3"
  }
 },
 "nbformat": 4,
 "nbformat_minor": 4
}
